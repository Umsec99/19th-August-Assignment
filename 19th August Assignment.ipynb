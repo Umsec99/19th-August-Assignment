{
 "cells": [
  {
   "cell_type": "markdown",
   "id": "f2110b41",
   "metadata": {},
   "source": [
    "# Assignment - 1 - 19th August"
   ]
  },
  {
   "cell_type": "markdown",
   "id": "958e632a",
   "metadata": {},
   "source": [
    "1. Declare two variables, `x` and `y`, and assign them integer values. Swap the\n",
    "values of these variables without using any temporary variable."
   ]
  },
  {
   "cell_type": "code",
   "execution_count": 47,
   "id": "c747f02e",
   "metadata": {},
   "outputs": [
    {
     "name": "stdout",
     "output_type": "stream",
     "text": [
      "Values before swap X is: 5 and Y is: 10\n",
      "Values after swap X is: 10 and Y is: 5\n"
     ]
    }
   ],
   "source": [
    "# assign two variables x,y two integer values\n",
    "x,y = 5,10\n",
    "\n",
    "# print value of x and y before swapping the variables\n",
    "print(f\"Values before swap X is: {x} and Y is: {y}\")\n",
    "\n",
    "# swap variables using comma\n",
    "x,y = y,x\n",
    "\n",
    "# print the variables after swapping\n",
    "print(f\"Values after swap X is: {x} and Y is: {y}\")"
   ]
  },
  {
   "cell_type": "markdown",
   "id": "8eb09d13",
   "metadata": {},
   "source": [
    "2. Create a program that calculates the area of a rectangle. Take the length and\n",
    " width as inputs from the user and store them in variables. Calculate and\n",
    " display the area."
   ]
  },
  {
   "cell_type": "code",
   "execution_count": 48,
   "id": "e0bd7ef2",
   "metadata": {},
   "outputs": [
    {
     "name": "stdout",
     "output_type": "stream",
     "text": [
      "enter length of rectangle 2.3\n",
      "enter width of rectangle 4.6\n",
      "area of rectangle is  10.579999999999998\n"
     ]
    }
   ],
   "source": [
    "# take input from user defined as length & breadth\n",
    "\n",
    "length = float(input(\"enter length of rectangle \"))\n",
    "width = float(input(\"enter width of rectangle \"))\n",
    "\n",
    "# to get area of rectangle, multiply the length & width\n",
    "\n",
    "area = length * width\n",
    "print(f\"area of rectangle is \",area)"
   ]
  },
  {
   "cell_type": "markdown",
   "id": "bf03c601",
   "metadata": {},
   "source": [
    "3. Write a Python program that converts temperatures from Celsius to\n",
    "Fahrenheit. Take the temperature in Celsius as input, store it in a variable,\n",
    "convert it to Fahrenheit, and display the result."
   ]
  },
  {
   "cell_type": "code",
   "execution_count": 55,
   "id": "4f89ef45",
   "metadata": {},
   "outputs": [
    {
     "name": "stdout",
     "output_type": "stream",
     "text": [
      "enter temp in celcius 37.7\n",
      "temp in Fahrenheit is  99.86000000000001\n"
     ]
    }
   ],
   "source": [
    "# define variable temp and take input as float of celcius\n",
    "\n",
    "temp = float(input(\"enter temp in celcius \"))\n",
    "\n",
    "# convert celcius into fahrenheit using the conversion formula\n",
    "temp_fah = temp * (9/5) +32\n",
    "\n",
    "# print the required result in fahrenheit\n",
    "\n",
    "print(f\"temp in Fahrenheit is \",temp_fah)"
   ]
  },
  {
   "cell_type": "markdown",
   "id": "4905183e",
   "metadata": {},
   "source": [
    "# String Based questions"
   ]
  },
  {
   "cell_type": "markdown",
   "id": "c66758b3",
   "metadata": {},
   "source": [
    "1. Write a Python program that takes a string as input and prints the length of\n",
    "the string."
   ]
  },
  {
   "cell_type": "code",
   "execution_count": 56,
   "id": "3fbd6326",
   "metadata": {},
   "outputs": [
    {
     "name": "stdout",
     "output_type": "stream",
     "text": [
      "Enter a String: pw skills & ineuron\n",
      "length of string is:  19\n"
     ]
    }
   ],
   "source": [
    "# take input of string from user\n",
    "string = input(\"Enter a String: \")\n",
    "\n",
    "#get length of string in another variable using len function\n",
    "string_length = len(string)\n",
    "\n",
    "#print the required length of entered string\n",
    "print(f\"length of string is: \",string_length)"
   ]
  },
  {
   "cell_type": "markdown",
   "id": "80089c26",
   "metadata": {},
   "source": [
    "2. Create a program that takes a sentence from the user and counts the number\n",
    "of vowels (a, e, i, o, u) in the string."
   ]
  },
  {
   "cell_type": "code",
   "execution_count": 57,
   "id": "93ada78e",
   "metadata": {},
   "outputs": [
    {
     "name": "stdout",
     "output_type": "stream",
     "text": [
      "Enter a sentence: The QUICK brown FOX\n",
      "The number of vowels is:  5\n"
     ]
    }
   ],
   "source": [
    "# enter sentence to count the number of vowels\n",
    "string =input(\"Enter a sentence: \")\n",
    "\n",
    "# set count function at 0 to count occurences\n",
    "count_vow = 0\n",
    "\n",
    "# set vowels\n",
    "vowel = \"aeiou\"\n",
    "\n",
    "# to iterate through the string use for loop and convert input string to lowercase\n",
    "for i in string:\n",
    "    low_str = i.lower()\n",
    "    \n",
    "# using if to check if the lower string has vowels and increase count by 1 over each iteration \n",
    "    if low_str in vowel:\n",
    "        count_vow += 1\n",
    "        \n",
    "# print the count of vowels\n",
    "print(\"The number of vowels is: \",count_vow)"
   ]
  },
  {
   "cell_type": "markdown",
   "id": "e1df99f6",
   "metadata": {},
   "source": [
    "3. Given a string, reverse the order of characters using string slicing and print\n",
    "the reversed string."
   ]
  },
  {
   "cell_type": "code",
   "execution_count": 58,
   "id": "fe2b5f07",
   "metadata": {},
   "outputs": [
    {
     "name": "stdout",
     "output_type": "stream",
     "text": [
      "Enter the string :ineuron , pwskillz, ACARA\n",
      "The reverse string is : ARACA ,zllikswp , norueni\n"
     ]
    }
   ],
   "source": [
    "# take string input from user\n",
    "inp_string = input(\"Enter the string :\")\n",
    "\n",
    "#reverse the input string \n",
    "rev_string = inp_string[::-1]\n",
    "\n",
    "#print the reversed string \n",
    "print(f\"The reverse string is :\",rev_string)"
   ]
  },
  {
   "cell_type": "markdown",
   "id": "4e097ac5",
   "metadata": {},
   "source": [
    "4. Write a program that takes a string as input and checks if it is a palindrome\n",
    "(reads the same forwards and backwards)."
   ]
  },
  {
   "cell_type": "code",
   "execution_count": 60,
   "id": "d00ff35c",
   "metadata": {},
   "outputs": [
    {
     "name": "stdout",
     "output_type": "stream",
     "text": [
      "Enter the string :massam\n",
      "the string is a Palindrome\n"
     ]
    }
   ],
   "source": [
    "# take string input from user\n",
    "inp_string = input(\"Enter the string :\")\n",
    "\n",
    "# remove spaces from input string\n",
    "nospace_str = inp_string.replace(\" \", \"\")\n",
    "\n",
    "#now convert into lowercase as python is case sensitive\n",
    "\n",
    "lowcase_str = nospace_str.lower()\n",
    "\n",
    "#reverse the input string \n",
    "rev_str = lowcase_str[::-1]\n",
    "\n",
    "# use if function to print whether the string is palindrome or not\n",
    "if lowcase_str == rev_str:\n",
    "    print(\"the string is a Palindrome\")\n",
    "else:\n",
    "    print(\"the string is not a palindrome\")"
   ]
  },
  {
   "cell_type": "markdown",
   "id": "0feef8db",
   "metadata": {},
   "source": [
    "5. Create a program that takes a string as input and removes all the spaces from\n",
    "it. Print the modified string without spaces."
   ]
  },
  {
   "cell_type": "code",
   "execution_count": 61,
   "id": "313f0bb4",
   "metadata": {},
   "outputs": [
    {
     "name": "stdout",
     "output_type": "stream",
     "text": [
      "Enter the string :pw skill & ineuron\n",
      "The string without Spaces is : pwskill&ineuron\n"
     ]
    }
   ],
   "source": [
    "# take string input from user\n",
    "inp_string = input(\"Enter the string :\")\n",
    "\n",
    "# remove spaces from input string by using replace function\n",
    "removedspace_str = inp_string.replace(\" \", \"\")\n",
    "\n",
    "#print the string without spaces\n",
    "print(f\"The string without Spaces is :\", removedspace_str)"
   ]
  },
  {
   "cell_type": "code",
   "execution_count": null,
   "id": "88f72cdb",
   "metadata": {},
   "outputs": [],
   "source": []
  }
 ],
 "metadata": {
  "kernelspec": {
   "display_name": "Python 3 (ipykernel)",
   "language": "python",
   "name": "python3"
  },
  "language_info": {
   "codemirror_mode": {
    "name": "ipython",
    "version": 3
   },
   "file_extension": ".py",
   "mimetype": "text/x-python",
   "name": "python",
   "nbconvert_exporter": "python",
   "pygments_lexer": "ipython3",
   "version": "3.11.4"
  }
 },
 "nbformat": 4,
 "nbformat_minor": 5
}
